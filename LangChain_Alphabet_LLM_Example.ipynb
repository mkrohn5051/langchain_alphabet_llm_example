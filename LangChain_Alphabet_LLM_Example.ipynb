{
 "cells": [
  {
   "cell_type": "code",
   "execution_count": 161,
   "id": "c4d83ee3",
   "metadata": {},
   "outputs": [],
   "source": [
    "import langchain\n",
    "from langchain.document_loaders import DirectoryLoader\n",
    "from langchain.text_splitter import CharacterTextSplitter\n",
    "from langchain.vectorstores import Pinecone\n",
    "from langchain.embeddings.openai import OpenAIEmbeddings\n",
    "from langchain import OpenAI\n",
    "from langchain.chat_models import ChatOpenAI\n",
    "from langchain.chains import RetrievalQA\n",
    "import tensorflow as tf\n",
    "import tensorflow_hub as hub\n",
    "import sentencepiece as spm\n",
    "import tiktoken\n",
    "\n",
    "import random\n",
    "import time\n",
    "import openai\n",
    "import os\n",
    "import pinecone\n"
   ]
  },
  {
   "cell_type": "code",
   "execution_count": 162,
   "id": "a62d2f26",
   "metadata": {},
   "outputs": [
    {
     "name": "stdout",
     "output_type": "stream",
     "text": [
      "3.8.1\n"
     ]
    }
   ],
   "source": [
    "from platform import python_version\n",
    "print(python_version())"
   ]
  },
  {
   "cell_type": "code",
   "execution_count": 163,
   "id": "141945a5",
   "metadata": {},
   "outputs": [
    {
     "name": "stderr",
     "output_type": "stream",
     "text": [
      "100%|██████████████████████████████████████████████████████████████████████████████████| 42/42 [04:21<00:00,  6.23s/it]\n"
     ]
    }
   ],
   "source": [
    "# load docs\n",
    "# C:\\Users\\mkroh\\Desktop\n",
    "# alphabet_reports_for_langchain_example\n",
    "\n",
    "loader = DirectoryLoader('c:/Users/mkroh/Desktop/alphabet_reports_for_langchain_example', \n",
    "                         glob='**/*.pdf', \n",
    "                         show_progress = True)\n",
    "docs = loader.load()\n",
    "# docs"
   ]
  },
  {
   "cell_type": "code",
   "execution_count": 190,
   "id": "e6692cdd",
   "metadata": {},
   "outputs": [
    {
     "name": "stderr",
     "output_type": "stream",
     "text": [
      "Created a chunk of size 3329, which is longer than the specified 2000\n",
      "Created a chunk of size 2874, which is longer than the specified 2000\n",
      "Created a chunk of size 2521, which is longer than the specified 2000\n",
      "Created a chunk of size 3362, which is longer than the specified 2000\n",
      "Created a chunk of size 2018, which is longer than the specified 2000\n",
      "Created a chunk of size 3949, which is longer than the specified 2000\n",
      "Created a chunk of size 5521, which is longer than the specified 2000\n",
      "Created a chunk of size 2088, which is longer than the specified 2000\n",
      "Created a chunk of size 3481, which is longer than the specified 2000\n",
      "Created a chunk of size 2872, which is longer than the specified 2000\n",
      "Created a chunk of size 3265, which is longer than the specified 2000\n",
      "Created a chunk of size 2168, which is longer than the specified 2000\n",
      "Created a chunk of size 2335, which is longer than the specified 2000\n",
      "Created a chunk of size 3473, which is longer than the specified 2000\n",
      "Created a chunk of size 2601, which is longer than the specified 2000\n",
      "Created a chunk of size 4345, which is longer than the specified 2000\n",
      "Created a chunk of size 3685, which is longer than the specified 2000\n",
      "Created a chunk of size 2361, which is longer than the specified 2000\n",
      "Created a chunk of size 5411, which is longer than the specified 2000\n",
      "Created a chunk of size 3026, which is longer than the specified 2000\n",
      "Created a chunk of size 2126, which is longer than the specified 2000\n",
      "Created a chunk of size 2075, which is longer than the specified 2000\n",
      "Created a chunk of size 4588, which is longer than the specified 2000\n",
      "Created a chunk of size 2413, which is longer than the specified 2000\n",
      "Created a chunk of size 4010, which is longer than the specified 2000\n",
      "Created a chunk of size 4205, which is longer than the specified 2000\n",
      "Created a chunk of size 2353, which is longer than the specified 2000\n",
      "Created a chunk of size 2059, which is longer than the specified 2000\n",
      "Created a chunk of size 5384, which is longer than the specified 2000\n",
      "Created a chunk of size 5772, which is longer than the specified 2000\n",
      "Created a chunk of size 3466, which is longer than the specified 2000\n",
      "Created a chunk of size 5000, which is longer than the specified 2000\n",
      "Created a chunk of size 2688, which is longer than the specified 2000\n",
      "Created a chunk of size 2411, which is longer than the specified 2000\n",
      "Created a chunk of size 2694, which is longer than the specified 2000\n",
      "Created a chunk of size 4724, which is longer than the specified 2000\n",
      "Created a chunk of size 2515, which is longer than the specified 2000\n",
      "Created a chunk of size 2417, which is longer than the specified 2000\n",
      "Created a chunk of size 9710, which is longer than the specified 2000\n",
      "Created a chunk of size 2023, which is longer than the specified 2000\n",
      "Created a chunk of size 2758, which is longer than the specified 2000\n",
      "Created a chunk of size 12201, which is longer than the specified 2000\n",
      "Created a chunk of size 2888, which is longer than the specified 2000\n",
      "Created a chunk of size 2124, which is longer than the specified 2000\n",
      "Created a chunk of size 3816, which is longer than the specified 2000\n",
      "Created a chunk of size 4329, which is longer than the specified 2000\n",
      "Created a chunk of size 3128, which is longer than the specified 2000\n",
      "Created a chunk of size 5290, which is longer than the specified 2000\n",
      "Created a chunk of size 7376, which is longer than the specified 2000\n",
      "Created a chunk of size 2210, which is longer than the specified 2000\n",
      "Created a chunk of size 5611, which is longer than the specified 2000\n",
      "Created a chunk of size 6262, which is longer than the specified 2000\n",
      "Created a chunk of size 3760, which is longer than the specified 2000\n",
      "Created a chunk of size 3651, which is longer than the specified 2000\n",
      "Created a chunk of size 2741, which is longer than the specified 2000\n",
      "Created a chunk of size 4315, which is longer than the specified 2000\n",
      "Created a chunk of size 5708, which is longer than the specified 2000\n",
      "Created a chunk of size 5489, which is longer than the specified 2000\n",
      "Created a chunk of size 3348, which is longer than the specified 2000\n",
      "Created a chunk of size 3214, which is longer than the specified 2000\n",
      "Created a chunk of size 2252, which is longer than the specified 2000\n",
      "Created a chunk of size 2625, which is longer than the specified 2000\n",
      "Created a chunk of size 3566, which is longer than the specified 2000\n",
      "Created a chunk of size 2563, which is longer than the specified 2000\n",
      "Created a chunk of size 7437, which is longer than the specified 2000\n",
      "Created a chunk of size 5649, which is longer than the specified 2000\n",
      "Created a chunk of size 2263, which is longer than the specified 2000\n",
      "Created a chunk of size 2894, which is longer than the specified 2000\n",
      "Created a chunk of size 5039, which is longer than the specified 2000\n",
      "Created a chunk of size 2870, which is longer than the specified 2000\n",
      "Created a chunk of size 3967, which is longer than the specified 2000\n",
      "Created a chunk of size 2403, which is longer than the specified 2000\n",
      "Created a chunk of size 5015, which is longer than the specified 2000\n",
      "Created a chunk of size 7218, which is longer than the specified 2000\n",
      "Created a chunk of size 3704, which is longer than the specified 2000\n",
      "Created a chunk of size 3434, which is longer than the specified 2000\n",
      "Created a chunk of size 5886, which is longer than the specified 2000\n",
      "Created a chunk of size 3496, which is longer than the specified 2000\n",
      "Created a chunk of size 3544, which is longer than the specified 2000\n",
      "Created a chunk of size 2493, which is longer than the specified 2000\n",
      "Created a chunk of size 5185, which is longer than the specified 2000\n",
      "Created a chunk of size 3977, which is longer than the specified 2000\n",
      "Created a chunk of size 8327, which is longer than the specified 2000\n",
      "Created a chunk of size 2233, which is longer than the specified 2000\n",
      "Created a chunk of size 9651, which is longer than the specified 2000\n",
      "Created a chunk of size 3015, which is longer than the specified 2000\n",
      "Created a chunk of size 5186, which is longer than the specified 2000\n",
      "Created a chunk of size 7979, which is longer than the specified 2000\n",
      "Created a chunk of size 5349, which is longer than the specified 2000\n",
      "Created a chunk of size 8014, which is longer than the specified 2000\n",
      "Created a chunk of size 4477, which is longer than the specified 2000\n",
      "Created a chunk of size 4479, which is longer than the specified 2000\n",
      "Created a chunk of size 2598, which is longer than the specified 2000\n",
      "Created a chunk of size 3671, which is longer than the specified 2000\n",
      "Created a chunk of size 4880, which is longer than the specified 2000\n",
      "Created a chunk of size 6888, which is longer than the specified 2000\n",
      "Created a chunk of size 7633, which is longer than the specified 2000\n",
      "Created a chunk of size 6256, which is longer than the specified 2000\n",
      "Created a chunk of size 2633, which is longer than the specified 2000\n",
      "Created a chunk of size 7305, which is longer than the specified 2000\n",
      "Created a chunk of size 2852, which is longer than the specified 2000\n",
      "Created a chunk of size 5026, which is longer than the specified 2000\n",
      "Created a chunk of size 8307, which is longer than the specified 2000\n",
      "Created a chunk of size 7047, which is longer than the specified 2000\n",
      "Created a chunk of size 3309, which is longer than the specified 2000\n",
      "Created a chunk of size 5306, which is longer than the specified 2000\n",
      "Created a chunk of size 12385, which is longer than the specified 2000\n",
      "Created a chunk of size 6678, which is longer than the specified 2000\n",
      "Created a chunk of size 2792, which is longer than the specified 2000\n",
      "Created a chunk of size 2438, which is longer than the specified 2000\n",
      "Created a chunk of size 2594, which is longer than the specified 2000\n",
      "Created a chunk of size 4459, which is longer than the specified 2000\n",
      "Created a chunk of size 11309, which is longer than the specified 2000\n",
      "Created a chunk of size 2233, which is longer than the specified 2000\n",
      "Created a chunk of size 3110, which is longer than the specified 2000\n",
      "Created a chunk of size 11655, which is longer than the specified 2000\n",
      "Created a chunk of size 12171, which is longer than the specified 2000\n",
      "Created a chunk of size 5144, which is longer than the specified 2000\n",
      "Created a chunk of size 4501, which is longer than the specified 2000\n",
      "Created a chunk of size 13090, which is longer than the specified 2000\n",
      "Created a chunk of size 4772, which is longer than the specified 2000\n",
      "Created a chunk of size 4797, which is longer than the specified 2000\n",
      "Created a chunk of size 11821, which is longer than the specified 2000\n",
      "Created a chunk of size 3350, which is longer than the specified 2000\n",
      "Created a chunk of size 12965, which is longer than the specified 2000\n",
      "Created a chunk of size 12683, which is longer than the specified 2000\n",
      "Created a chunk of size 6255, which is longer than the specified 2000\n",
      "Created a chunk of size 8172, which is longer than the specified 2000\n",
      "Created a chunk of size 5243, which is longer than the specified 2000\n",
      "Created a chunk of size 5347, which is longer than the specified 2000\n",
      "Created a chunk of size 2637, which is longer than the specified 2000\n",
      "Created a chunk of size 8826, which is longer than the specified 2000\n",
      "Created a chunk of size 2325, which is longer than the specified 2000\n",
      "Created a chunk of size 5530, which is longer than the specified 2000\n",
      "Created a chunk of size 2592, which is longer than the specified 2000\n",
      "Created a chunk of size 3543, which is longer than the specified 2000\n",
      "Created a chunk of size 2592, which is longer than the specified 2000\n",
      "Created a chunk of size 5676, which is longer than the specified 2000\n",
      "Created a chunk of size 6530, which is longer than the specified 2000\n",
      "Created a chunk of size 4185, which is longer than the specified 2000\n",
      "Created a chunk of size 6018, which is longer than the specified 2000\n",
      "Created a chunk of size 3093, which is longer than the specified 2000\n",
      "Created a chunk of size 6095, which is longer than the specified 2000\n",
      "Created a chunk of size 7519, which is longer than the specified 2000\n",
      "Created a chunk of size 5591, which is longer than the specified 2000\n",
      "Created a chunk of size 11614, which is longer than the specified 2000\n",
      "Created a chunk of size 9667, which is longer than the specified 2000\n",
      "Created a chunk of size 3884, which is longer than the specified 2000\n",
      "Created a chunk of size 8778, which is longer than the specified 2000\n",
      "Created a chunk of size 10485, which is longer than the specified 2000\n",
      "Created a chunk of size 4424, which is longer than the specified 2000\n",
      "Created a chunk of size 11502, which is longer than the specified 2000\n",
      "Created a chunk of size 3073, which is longer than the specified 2000\n",
      "Created a chunk of size 3035, which is longer than the specified 2000\n",
      "Created a chunk of size 2224, which is longer than the specified 2000\n",
      "Created a chunk of size 3543, which is longer than the specified 2000\n",
      "Created a chunk of size 6001, which is longer than the specified 2000\n",
      "Created a chunk of size 4173, which is longer than the specified 2000\n",
      "Created a chunk of size 4278, which is longer than the specified 2000\n",
      "Created a chunk of size 3683, which is longer than the specified 2000\n",
      "Created a chunk of size 2517, which is longer than the specified 2000\n",
      "Created a chunk of size 2366, which is longer than the specified 2000\n",
      "Created a chunk of size 2163, which is longer than the specified 2000\n",
      "Created a chunk of size 5220, which is longer than the specified 2000\n",
      "Created a chunk of size 4194, which is longer than the specified 2000\n",
      "Created a chunk of size 5826, which is longer than the specified 2000\n",
      "Created a chunk of size 3687, which is longer than the specified 2000\n",
      "Created a chunk of size 3559, which is longer than the specified 2000\n",
      "Created a chunk of size 8281, which is longer than the specified 2000\n",
      "Created a chunk of size 2035, which is longer than the specified 2000\n",
      "Created a chunk of size 5941, which is longer than the specified 2000\n",
      "Created a chunk of size 9071, which is longer than the specified 2000\n",
      "Created a chunk of size 5533, which is longer than the specified 2000\n",
      "Created a chunk of size 3750, which is longer than the specified 2000\n",
      "Created a chunk of size 5003, which is longer than the specified 2000\n",
      "Created a chunk of size 3939, which is longer than the specified 2000\n",
      "Created a chunk of size 2200, which is longer than the specified 2000\n",
      "Created a chunk of size 2264, which is longer than the specified 2000\n",
      "Created a chunk of size 2131, which is longer than the specified 2000\n",
      "Created a chunk of size 2488, which is longer than the specified 2000\n",
      "Created a chunk of size 2426, which is longer than the specified 2000\n",
      "Created a chunk of size 2464, which is longer than the specified 2000\n",
      "Created a chunk of size 2127, which is longer than the specified 2000\n",
      "Created a chunk of size 2875, which is longer than the specified 2000\n",
      "Created a chunk of size 2290, which is longer than the specified 2000\n",
      "Created a chunk of size 2326, which is longer than the specified 2000\n",
      "Created a chunk of size 2141, which is longer than the specified 2000\n",
      "Created a chunk of size 2144, which is longer than the specified 2000\n",
      "Created a chunk of size 3039, which is longer than the specified 2000\n",
      "Created a chunk of size 2058, which is longer than the specified 2000\n",
      "Created a chunk of size 2064, which is longer than the specified 2000\n",
      "Created a chunk of size 2505, which is longer than the specified 2000\n",
      "Created a chunk of size 2192, which is longer than the specified 2000\n",
      "Created a chunk of size 3110, which is longer than the specified 2000\n",
      "Created a chunk of size 4140, which is longer than the specified 2000\n",
      "Created a chunk of size 3668, which is longer than the specified 2000\n",
      "Created a chunk of size 3396, which is longer than the specified 2000\n",
      "Created a chunk of size 3901, which is longer than the specified 2000\n",
      "Created a chunk of size 2467, which is longer than the specified 2000\n",
      "Created a chunk of size 2671, which is longer than the specified 2000\n",
      "Created a chunk of size 2674, which is longer than the specified 2000\n",
      "Created a chunk of size 3199, which is longer than the specified 2000\n",
      "Created a chunk of size 2181, which is longer than the specified 2000\n",
      "Created a chunk of size 2183, which is longer than the specified 2000\n",
      "Created a chunk of size 2146, which is longer than the specified 2000\n",
      "Created a chunk of size 3208, which is longer than the specified 2000\n",
      "Created a chunk of size 3088, which is longer than the specified 2000\n",
      "Created a chunk of size 4260, which is longer than the specified 2000\n",
      "Created a chunk of size 9141, which is longer than the specified 2000\n",
      "Created a chunk of size 3492, which is longer than the specified 2000\n",
      "Created a chunk of size 2701, which is longer than the specified 2000\n",
      "Created a chunk of size 5844, which is longer than the specified 2000\n",
      "Created a chunk of size 3408, which is longer than the specified 2000\n",
      "Created a chunk of size 3683, which is longer than the specified 2000\n",
      "Created a chunk of size 2796, which is longer than the specified 2000\n",
      "Created a chunk of size 4495, which is longer than the specified 2000\n",
      "Created a chunk of size 2250, which is longer than the specified 2000\n",
      "Created a chunk of size 5849, which is longer than the specified 2000\n",
      "Created a chunk of size 2212, which is longer than the specified 2000\n",
      "Created a chunk of size 2369, which is longer than the specified 2000\n",
      "Created a chunk of size 5831, which is longer than the specified 2000\n",
      "Created a chunk of size 3427, which is longer than the specified 2000\n",
      "Created a chunk of size 2079, which is longer than the specified 2000\n",
      "Created a chunk of size 2009, which is longer than the specified 2000\n",
      "Created a chunk of size 3498, which is longer than the specified 2000\n",
      "Created a chunk of size 2951, which is longer than the specified 2000\n",
      "Created a chunk of size 2148, which is longer than the specified 2000\n",
      "Created a chunk of size 2095, which is longer than the specified 2000\n",
      "Created a chunk of size 2904, which is longer than the specified 2000\n",
      "Created a chunk of size 2248, which is longer than the specified 2000\n",
      "Created a chunk of size 2137, which is longer than the specified 2000\n",
      "Created a chunk of size 2437, which is longer than the specified 2000\n",
      "Created a chunk of size 2365, which is longer than the specified 2000\n",
      "Created a chunk of size 2033, which is longer than the specified 2000\n",
      "Created a chunk of size 2142, which is longer than the specified 2000\n",
      "Created a chunk of size 3319, which is longer than the specified 2000\n",
      "Created a chunk of size 4260, which is longer than the specified 2000\n",
      "Created a chunk of size 3159, which is longer than the specified 2000\n",
      "Created a chunk of size 5007, which is longer than the specified 2000\n",
      "Created a chunk of size 7597, which is longer than the specified 2000\n",
      "Created a chunk of size 3722, which is longer than the specified 2000\n",
      "Created a chunk of size 5906, which is longer than the specified 2000\n",
      "Created a chunk of size 3082, which is longer than the specified 2000\n",
      "Created a chunk of size 3005, which is longer than the specified 2000\n",
      "Created a chunk of size 3230, which is longer than the specified 2000\n",
      "Created a chunk of size 3386, which is longer than the specified 2000\n",
      "Created a chunk of size 2123, which is longer than the specified 2000\n",
      "Created a chunk of size 3038, which is longer than the specified 2000\n",
      "Created a chunk of size 2073, which is longer than the specified 2000\n",
      "Created a chunk of size 3600, which is longer than the specified 2000\n",
      "Created a chunk of size 2632, which is longer than the specified 2000\n",
      "Created a chunk of size 4235, which is longer than the specified 2000\n",
      "Created a chunk of size 4863, which is longer than the specified 2000\n",
      "Created a chunk of size 4067, which is longer than the specified 2000\n",
      "Created a chunk of size 2773, which is longer than the specified 2000\n",
      "Created a chunk of size 3610, which is longer than the specified 2000\n",
      "Created a chunk of size 4554, which is longer than the specified 2000\n",
      "Created a chunk of size 2106, which is longer than the specified 2000\n",
      "Created a chunk of size 3056, which is longer than the specified 2000\n",
      "Created a chunk of size 5325, which is longer than the specified 2000\n",
      "Created a chunk of size 2137, which is longer than the specified 2000\n",
      "Created a chunk of size 3022, which is longer than the specified 2000\n",
      "Created a chunk of size 2521, which is longer than the specified 2000\n",
      "Created a chunk of size 4865, which is longer than the specified 2000\n",
      "Created a chunk of size 2330, which is longer than the specified 2000\n",
      "Created a chunk of size 2901, which is longer than the specified 2000\n",
      "Created a chunk of size 4470, which is longer than the specified 2000\n",
      "Created a chunk of size 2783, which is longer than the specified 2000\n",
      "Created a chunk of size 3924, which is longer than the specified 2000\n",
      "Created a chunk of size 2084, which is longer than the specified 2000\n",
      "Created a chunk of size 3156, which is longer than the specified 2000\n",
      "Created a chunk of size 3115, which is longer than the specified 2000\n",
      "Created a chunk of size 2080, which is longer than the specified 2000\n",
      "Created a chunk of size 2451, which is longer than the specified 2000\n",
      "Created a chunk of size 3351, which is longer than the specified 2000\n",
      "Created a chunk of size 3730, which is longer than the specified 2000\n",
      "Created a chunk of size 2302, which is longer than the specified 2000\n",
      "Created a chunk of size 6279, which is longer than the specified 2000\n",
      "Created a chunk of size 5137, which is longer than the specified 2000\n",
      "Created a chunk of size 5450, which is longer than the specified 2000\n",
      "Created a chunk of size 4050, which is longer than the specified 2000\n",
      "Created a chunk of size 3986, which is longer than the specified 2000\n",
      "Created a chunk of size 12580, which is longer than the specified 2000\n",
      "Created a chunk of size 9011, which is longer than the specified 2000\n",
      "Created a chunk of size 4296, which is longer than the specified 2000\n",
      "Created a chunk of size 13523, which is longer than the specified 2000\n",
      "Created a chunk of size 7783, which is longer than the specified 2000\n",
      "Created a chunk of size 5834, which is longer than the specified 2000\n",
      "Created a chunk of size 3201, which is longer than the specified 2000\n",
      "Created a chunk of size 6517, which is longer than the specified 2000\n",
      "Created a chunk of size 4914, which is longer than the specified 2000\n",
      "Created a chunk of size 5109, which is longer than the specified 2000\n",
      "Created a chunk of size 3100, which is longer than the specified 2000\n",
      "Created a chunk of size 3811, which is longer than the specified 2000\n",
      "Created a chunk of size 2484, which is longer than the specified 2000\n",
      "Created a chunk of size 6932, which is longer than the specified 2000\n",
      "Created a chunk of size 9557, which is longer than the specified 2000\n",
      "Created a chunk of size 2626, which is longer than the specified 2000\n",
      "Created a chunk of size 3015, which is longer than the specified 2000\n",
      "Created a chunk of size 2282, which is longer than the specified 2000\n",
      "Created a chunk of size 2214, which is longer than the specified 2000\n",
      "Created a chunk of size 2454, which is longer than the specified 2000\n",
      "Created a chunk of size 2666, which is longer than the specified 2000\n",
      "Created a chunk of size 3300, which is longer than the specified 2000\n",
      "Created a chunk of size 4052, which is longer than the specified 2000\n",
      "Created a chunk of size 4015, which is longer than the specified 2000\n",
      "Created a chunk of size 4153, which is longer than the specified 2000\n",
      "Created a chunk of size 2064, which is longer than the specified 2000\n",
      "Created a chunk of size 5644, which is longer than the specified 2000\n",
      "Created a chunk of size 2274, which is longer than the specified 2000\n",
      "Created a chunk of size 3134, which is longer than the specified 2000\n",
      "Created a chunk of size 2161, which is longer than the specified 2000\n",
      "Created a chunk of size 4264, which is longer than the specified 2000\n",
      "Created a chunk of size 5825, which is longer than the specified 2000\n",
      "Created a chunk of size 2859, which is longer than the specified 2000\n",
      "Created a chunk of size 2290, which is longer than the specified 2000\n",
      "Created a chunk of size 4226, which is longer than the specified 2000\n",
      "Created a chunk of size 2457, which is longer than the specified 2000\n",
      "Created a chunk of size 2240, which is longer than the specified 2000\n",
      "Created a chunk of size 4460, which is longer than the specified 2000\n",
      "Created a chunk of size 9405, which is longer than the specified 2000\n",
      "Created a chunk of size 4234, which is longer than the specified 2000\n",
      "Created a chunk of size 6764, which is longer than the specified 2000\n",
      "Created a chunk of size 2295, which is longer than the specified 2000\n",
      "Created a chunk of size 4601, which is longer than the specified 2000\n",
      "Created a chunk of size 2785, which is longer than the specified 2000\n",
      "Created a chunk of size 2474, which is longer than the specified 2000\n",
      "Created a chunk of size 4826, which is longer than the specified 2000\n",
      "Created a chunk of size 2389, which is longer than the specified 2000\n"
     ]
    }
   ],
   "source": [
    "# chunk the data\n",
    "\n",
    "text_splitter = CharacterTextSplitter(chunk_size=2000, chunk_overlap=0)  # OG chunk_size: 19880\n",
    "docs_split = text_splitter.split_documents(docs)\n",
    "# docs_split"
   ]
  },
  {
   "cell_type": "code",
   "execution_count": 191,
   "id": "61161475",
   "metadata": {},
   "outputs": [
    {
     "name": "stdout",
     "output_type": "stream",
     "text": [
      "3287\n"
     ]
    }
   ],
   "source": [
    "print(len(docs_split))"
   ]
  },
  {
   "cell_type": "code",
   "execution_count": 192,
   "id": "220f3c37",
   "metadata": {},
   "outputs": [],
   "source": [
    "# now for some pinecone, openai keys\n",
    "\n",
    "PINECONE_API_KEY = 'get your own'\n",
    "PINECONE_ENV = 'get your own'\n",
    "OPENAI_API_KEY = 'get your own'\n",
    "\n",
    "os.environ['OPENAI_API_KEY'] = OPENAI_API_KEY"
   ]
  },
  {
   "cell_type": "code",
   "execution_count": 193,
   "id": "3c0db5de",
   "metadata": {},
   "outputs": [],
   "source": [
    "# docs_split_small = docs_split[:59]\n",
    "\n",
    "# print(len(docs_split_small))"
   ]
  },
  {
   "cell_type": "code",
   "execution_count": 194,
   "id": "705e9b86",
   "metadata": {},
   "outputs": [],
   "source": [
    "# print(docs_split[:1])"
   ]
  },
  {
   "cell_type": "code",
   "execution_count": 195,
   "id": "63800eef",
   "metadata": {},
   "outputs": [
    {
     "name": "stdout",
     "output_type": "stream",
     "text": [
      "True\n"
     ]
    }
   ],
   "source": [
    "if type(docs_split) == list:\n",
    "    print(True)\n",
    "else:\n",
    "    print(False)"
   ]
  },
  {
   "cell_type": "code",
   "execution_count": 196,
   "id": "6e3e1427",
   "metadata": {},
   "outputs": [],
   "source": [
    "# str_doc = str(docs_split[:1])\n",
    "# tensor_doc = tf.convert_to_tensor(str_doc)\n",
    "\n",
    "# print(tensor_doc)"
   ]
  },
  {
   "cell_type": "code",
   "execution_count": 197,
   "id": "bc75ce5c",
   "metadata": {},
   "outputs": [],
   "source": [
    "# woops, can't use any of this.  awesome.  really fun.\n",
    "\n",
    "\n",
    "# # convert to string, then string to tensor for embedding. \n",
    "\n",
    "# Check if each item in the list is a string.\n",
    "is_string = [isinstance(item, str) for item in docs_split]\n",
    "\n",
    "# Convert the items in the list to strings if they are not strings.\n",
    "string_list = [str(item) if not is_string[i] else item for i, item in enumerate(docs_split)]\n",
    "\n",
    "# # Convert the string list to tensors.\n",
    "# tensor_list = [tf.convert_to_tensor(item) for item in string_list]\n",
    "\n",
    "# # stack the tensors\n",
    "# stacked_tensor = tf.stack(tensor_list)\n",
    "\n",
    "# # print(stacked_tensor[0:3])  # check it"
   ]
  },
  {
   "cell_type": "code",
   "execution_count": 198,
   "id": "23b9d603",
   "metadata": {},
   "outputs": [
    {
     "name": "stdout",
     "output_type": "stream",
     "text": [
      "3287\n"
     ]
    }
   ],
   "source": [
    "print(len(string_list))"
   ]
  },
  {
   "cell_type": "code",
   "execution_count": 199,
   "id": "f366d862",
   "metadata": {},
   "outputs": [],
   "source": [
    "# print(string_list[:1])"
   ]
  },
  {
   "cell_type": "code",
   "execution_count": 200,
   "id": "2a1cf469",
   "metadata": {},
   "outputs": [],
   "source": [
    "# print(string_list[359:360])"
   ]
  },
  {
   "cell_type": "code",
   "execution_count": 201,
   "id": "43fc4fb9",
   "metadata": {},
   "outputs": [],
   "source": [
    "encoding = tiktoken.get_encoding(\"cl100k_base\")"
   ]
  },
  {
   "cell_type": "code",
   "execution_count": 202,
   "id": "01858dd3",
   "metadata": {},
   "outputs": [],
   "source": [
    "encoding = tiktoken.encoding_for_model(\"text-embedding-ada-002\")"
   ]
  },
  {
   "cell_type": "code",
   "execution_count": 203,
   "id": "a5928196",
   "metadata": {},
   "outputs": [],
   "source": [
    "encoded_strings = []\n",
    "number_tokens_per_string = []\n",
    "\n",
    "for string in string_list:\n",
    "    encoded_strings.append(encoding.encode(string))  # encodes each string in string_list\n",
    "    num_tokens = len(encoding.encode(string))\n",
    "    number_tokens_per_string.append(num_tokens)\n",
    "    \n",
    "\n",
    "# encoding.encode(string_list[:1])"
   ]
  },
  {
   "cell_type": "code",
   "execution_count": 204,
   "id": "b982c010",
   "metadata": {},
   "outputs": [
    {
     "name": "stdout",
     "output_type": "stream",
     "text": [
      "3287\n"
     ]
    }
   ],
   "source": [
    "# validate\n",
    "\n",
    "print(len(encoded_strings))\n",
    "# print(len(encoded_strings[1]))"
   ]
  },
  {
   "cell_type": "code",
   "execution_count": 205,
   "id": "00f991aa",
   "metadata": {},
   "outputs": [
    {
     "name": "stdout",
     "output_type": "stream",
     "text": [
      "[397, 513, 502, 381, 302, 406, 614, 720, 757, 775, 360, 354, 318, 300, 482, 445, 314, 443, 649, 603, 290, 429, 561, 579, 376, 380, 496, 628, 627, 607, 517, 434, 519, 623, 718, 564, 501, 530, 363, 452, 348, 393, 351, 438, 728, 531, 424, 638, 602, 432, 371, 503, 454, 419, 442, 395, 501, 477, 418, 658, 418, 514, 393, 462, 454, 453, 446, 467, 507, 328, 435, 387, 364, 353, 394, 364, 452, 367, 400, 336, 315, 394, 314, 365, 364, 234, 340, 368, 394, 356, 369, 365, 346, 390, 319, 344, 281, 363, 372, 224, 380, 394, 315, 303, 318, 296, 384, 408, 413, 328, 231, 380, 349, 411, 359, 328, 403, 426, 362, 349, 350, 298, 365, 422, 441, 394, 538, 314, 385, 516, 502, 379, 299, 406, 609, 795, 807, 808, 776, 425, 364, 345, 366, 499, 647, 314, 442, 690, 622, 393, 571, 658, 453, 341, 407, 577, 634, 669, 648, 673, 406, 409, 610, 570, 735, 710, 598, 389, 349, 443, 364, 376, 351, 441, 801, 690, 481, 433, 703, 634, 465, 413, 353, 583, 474, 472, 431, 279, 434, 544, 572, 364, 768, 603, 491, 452, 450, 441, 427, 436, 460, 551, 459, 498, 302, 455, 401, 314, 383, 364, 357, 394, 364, 454, 369, 386, 331, 315, 381, 326, 365, 364, 237, 340, 368, 394, 360, 369, 362, 342, 390, 319, 342, 279, 361, 371, 224, 378, 394, 312, 331, 384, 303, 366, 357, 259, 328, 225, 366, 365, 344, 356, 237, 324, 390, 395, 281, 338, 376, 298, 363, 418, 439, 607, 457, 379, 509, 505, 379, 299, 406, 611, 767, 795, 799, 784, 433, 364, 345, 366, 499, 652, 314, 442, 641, 674, 393, 564, 685, 518, 349, 404, 574, 625, 655, 616, 601, 455, 416, 606, 527, 717, 716, 515, 522, 364, 326, 206, 348, 411, 351, 384, 749, 682, 514, 412, 633, 713, 485, 405, 101, 384, 577, 485, 391, 415, 315, 353, 519, 549, 449, 683, 662, 352, 564, 451, 404, 497, 477, 435, 389, 439, 411, 476, 449, 471, 380, 319, 383, 364, 357, 405, 405, 371, 369, 357, 376, 315, 379, 326, 365, 364, 237, 340, 368, 394, 360, 369, 362, 342, 390, 319, 342, 279, 361, 371, 224, 375, 324, 272, 299, 330, 343, 346, 366, 375, 243, 328, 237, 380, 349, 344, 369, 221, 324, 404, 380, 281, 338, 376, 298, 365, 417, 439, 614, 671, 299, 589, 573, 395, 305, 602, 732, 678, 511, 721, 605, 552, 219, 598, 488, 386, 384, 492, 788, 887, 613, 734, 495, 531, 598, 404, 386, 384, 494, 772, 859, 620, 783, 464, 611, 602, 755, 353, 382, 384, 496, 776, 863, 630, 788, 333, 809, 374, 497, 518, 304, 475, 460, 467, 415, 555, 358, 484, 379, 505, 415, 487, 591, 467, 286, 478, 667, 406, 398, 419, 361, 323, 348, 292, 329, 391, 278, 400, 425, 415, 417, 318, 343, 326, 329, 383, 308, 384, 364, 233, 346, 367, 379, 368, 368, 366, 374, 380, 330, 331, 304, 360, 360, 373, 324, 319, 362, 426, 398, 313, 374, 268, 363, 376, 347, 159, 361, 353, 425, 313, 312, 422, 392, 301, 327, 338, 331, 376, 165, 415, 468, 541, 574, 766, 482, 387, 401, 343, 337, 300, 319, 459, 450, 521, 409, 275, 311, 399, 435, 481, 338, 665, 384, 427, 462, 489, 423, 572, 473, 357, 404, 755, 573, 358, 466, 432, 395, 476, 578, 373, 408, 271, 319, 347, 370, 410, 342, 345, 405, 364, 178, 379, 446, 390, 353, 413, 384, 357, 547, 773, 814, 838, 654, 287, 406, 395, 367, 402, 415, 329, 371, 293, 406, 321, 379, 342, 327, 357, 318, 326, 408, 730, 338, 708, 730, 460, 539, 656, 455, 358, 334, 497, 691, 688, 648, 605, 428, 309, 622, 635, 761, 721, 523, 767, 442, 471, 318, 347, 391, 335, 369, 317, 241, 435, 757, 651, 598, 760, 503, 591, 556, 382, 385, 659, 216, 359, 393, 445, 649, 696, 763, 703, 596, 635, 507, 147, 461, 440, 346, 395, 312, 290, 412, 380, 427, 465, 353, 432, 348, 385, 361, 441, 489, 401, 459, 467, 445, 479, 502, 467, 449, 421, 399, 482, 480, 410, 466, 465, 455, 395, 362, 338, 366, 413, 364, 347, 407, 388, 412, 434, 347, 349, 443, 345, 442, 386, 432, 482, 492, 508, 486, 507, 382, 452, 449, 390, 467, 364, 386, 350, 295, 369, 360, 446, 378, 380, 312, 429, 372, 476, 457, 479, 514, 489, 420, 468, 358, 455, 378, 495, 135, 460, 424, 432, 352, 387, 327, 363, 350, 345, 410, 407, 446, 397, 400, 441, 474, 392, 476, 493, 483, 434, 403, 342, 446, 447, 442, 322, 344, 489, 497, 462, 493, 383, 390, 368, 349, 376, 401, 293, 330, 382, 287, 395, 414, 404, 413, 319, 352, 353, 297, 387, 309, 375, 365, 237, 342, 368, 384, 358, 369, 367, 389, 400, 382, 355, 167, 361, 377, 282, 374, 355, 362, 413, 391, 316, 380, 381, 371, 243, 356, 413, 342, 312, 303, 214, 313, 423, 364, 315, 388, 357, 248, 348, 170, 414, 462, 436, 406, 520, 639, 406, 307, 382, 369, 315, 175, 496, 444, 454, 358, 385, 333, 362, 422, 477, 343, 661, 437, 502, 404, 448, 448, 495, 456, 450, 444, 695, 414, 350, 397, 470, 310, 560, 485, 262, 405, 249, 320, 362, 330, 376, 355, 346, 366, 382, 179, 380, 366, 397, 335, 407, 370, 358, 533, 748, 753, 791, 628, 290, 389, 406, 402, 312, 416, 403, 305, 273, 390, 324, 382, 325, 328, 361, 302, 327, 408, 642, 320, 647, 735, 400, 551, 633, 402, 341, 333, 492, 639, 672, 629, 513, 390, 291, 608, 626, 752, 555, 460, 741, 372, 350, 340, 271, 348, 394, 321, 371, 329, 260, 476, 718, 618, 525, 758, 406, 577, 533, 393, 393, 614, 163, 365, 354, 430, 594, 655, 741, 708, 525, 640, 379, 516, 495, 381, 340, 439, 614, 706, 689, 776, 437, 354, 429, 513, 320, 611, 671, 421, 539, 587, 410, 339, 409, 510, 618, 646, 605, 402, 531, 545, 710, 604, 632, 354, 454, 289, 348, 381, 317, 305, 646, 658, 399, 382, 477, 258, 513, 493, 461, 367, 313, 319, 418, 437, 462, 513, 583, 431, 472, 414, 442, 505, 476, 446, 420, 412, 449, 357, 440, 378, 337, 340, 505, 593, 189, 375, 513, 503, 381, 343, 448, 614, 788, 802, 788, 768, 457, 364, 452, 764, 320, 612, 668, 465, 558, 629, 500, 369, 384, 451, 648, 665, 627, 594, 400, 551, 507, 715, 774, 600, 343, 363, 326, 357, 348, 455, 303, 305, 537, 851, 647, 492, 498, 435, 258, 495, 483, 538, 345, 300, 284, 319, 488, 366, 513, 335, 776, 604, 498, 517, 495, 413, 480, 551, 390, 421, 437, 410, 422, 419, 454, 359, 450, 380, 337, 366, 373, 165, 428, 619, 370, 618, 565, 360, 319, 606, 666, 707, 605, 562, 486, 451, 651, 474, 210, 382, 384, 497, 789, 886, 614, 740, 497, 424, 593, 532, 210, 382, 384, 498, 780, 869, 607, 781, 493, 427, 607, 514, 404, 382, 384, 669, 805, 888, 606, 554, 491, 432, 656, 350, 1492, 1263, 766, 445, 1144, 1507, 944, 592, 871, 532, 1716, 2398, 944, 636, 670, 632, 764, 1522, 1291, 839, 1399, 782, 1014, 913, 801, 437, 1051, 353, 1531, 1126, 876, 305, 650, 1989, 1637, 1066, 2493, 920, 678, 843, 206, 1336, 456, 766, 530, 983, 279, 928, 776, 2130, 1085, 70, 1888, 1881, 933, 576, 1033, 742, 502, 919, 2398, 2567, 453, 871, 450, 1527, 2206, 1149, 760, 708, 625, 893, 71, 1082, 491, 1212, 828, 864, 846, 871, 930, 766, 912, 966, 864, 836, 435, 2445, 1309, 487, 1033, 1265, 387, 4992, 1064, 175, 1441, 870, 371, 836, 824, 849, 996, 955, 884, 630, 606, 915, 665, 6239, 847, 762, 659, 666, 552, 923, 204, 1007, 1019, 1508, 1124, 915, 1979, 2243, 40, 1633, 2735, 3801, 1161, 37, 2900, 39, 3232, 167, 1946, 400, 1898, 1437, 2239, 2952, 2836, 103, 1742, 1670, 1171, 1370, 1854, 966, 1324, 37, 3821, 870, 580, 2917, 1053, 712, 532, 1186, 890, 802, 734, 969, 851, 949, 1028, 934, 894, 790, 480, 1513, 1013, 2604, 654, 936, 800, 775, 895, 1501, 2058, 1265, 2591, 1043, 3713, 1926, 1786, 3032, 37, 1818, 1842, 1309, 38, 2679, 37, 2066, 187, 4278, 73, 1173, 193, 4956, 1569, 78, 2675, 4098, 2763, 216, 4118, 2315, 2315, 1357, 1906, 56, 2527, 3549, 68, 3930, 183, 3225, 1377, 71, 3758, 1489, 744, 2599, 4266, 3625, 1722, 183, 2739, 102, 6346, 3437, 56, 1457, 734, 1278, 436, 1358, 878, 592, 934, 2307, 246, 5797, 1084, 1617, 5978, 6242, 2659, 191, 1028, 2327, 660, 6715, 2467, 87, 2479, 6062, 1742, 251, 6639, 259, 6495, 3228, 4194, 2712, 208, 2763, 1378, 995, 920, 4536, 666, 1218, 2853, 798, 1354, 612, 1843, 1358, 2932, 224, 3361, 2166, 49, 3100, 1613, 70, 3144, 3875, 2889, 618, 5954, 4964, 81, 2014, 4511, 5377, 246, 2295, 51, 5906, 854, 1598, 746, 590, 714, 1582, 1170, 1846, 230, 3096, 2163, 59, 2218, 71, 1910, 594, 1318, 775, 986, 863, 423, 1238, 868, 1136, 2691, 56, 2175, 72, 3004, 1914, 69, 1850, 4254, 1072, 558, 3064, 191, 4659, 2852, 1946, 55, 2591, 383, 2046, 74, 1020, 436, 1072, 804, 317, 824, 870, 1109, 225, 992, 141, 1097, 567, 807, 623, 414, 681, 600, 1151, 145, 1146, 718, 877, 65, 1289, 680, 574, 908, 867, 456, 806, 291, 848, 610, 906, 498, 723, 1018, 1039, 631, 1014, 1054, 199, 737, 125, 1456, 840, 749, 696, 663, 615, 828, 627, 678, 893, 526, 609, 570, 620, 675, 634, 665, 501, 1123, 440, 718, 440, 727, 559, 1138, 684, 723, 289, 1105, 551, 1107, 980, 426, 1541, 921, 948, 135, 1075, 112, 1191, 1122, 40, 1276, 43, 2146, 812, 1816, 38, 1638, 941, 89, 2022, 1158, 567, 580, 1204, 646, 1196, 1614, 771, 595, 660, 122, 1061, 715, 1094, 75, 1080, 1310, 107, 1568, 661, 607, 2162, 4376, 848, 168, 1691, 909, 1368, 2971, 38, 1675, 157, 1859, 970, 621, 745, 1417, 580, 2280, 607, 1132, 45, 2875, 1130, 854, 576, 640, 871, 1031, 1025, 1052, 964, 1033, 1002, 893, 853, 641, 980, 1241, 570, 2961, 1690, 37, 1096, 52, 1053, 580, 597, 1686, 727, 1494, 928, 406, 1090, 351, 1084, 40, 1517, 525, 625, 1125, 633, 1098, 1281, 1153, 40, 1072, 37, 1078, 38, 1677, 523, 2207, 890, 1634, 654, 572, 2539, 560, 3693, 930, 1842, 871, 442, 586, 2997, 71, 1587, 383, 1394, 1620, 680, 1691, 896, 80, 1073, 116, 1554, 1064, 1721, 1330, 516, 2137, 610, 579, 2519, 2110, 101, 1404, 37, 1826, 812, 842, 2220, 188, 1098, 670, 1036, 420, 1563, 892, 460, 914, 964, 600, 2654, 953, 609, 737, 869, 407, 1021, 879, 611, 1088, 39, 1529, 642, 1169, 156, 2475, 897, 1132, 42, 1469, 630, 2269, 939, 1031, 889, 1041, 961, 895, 1006, 949, 702, 865, 759, 647, 1457, 935, 130, 2034, 37, 1069, 573, 1627, 1610, 109, 1094, 1016, 662, 1285, 638, 893, 589, 1701, 915, 959, 1036, 943, 995, 985, 747, 70, 1865, 38, 1136, 923, 829, 573, 833, 638, 632, 3233, 2655, 526, 616, 2820, 2102, 2070, 972, 6450, 45, 4627, 2227, 6943, 36, 3994, 3012, 96, 1665, 294, 3361, 306, 795, 2551, 38, 2647, 1617, 49, 1982, 1305, 106, 3573, 4916, 1377, 1001, 947, 1046, 984, 824, 1020, 937, 1011, 92, 1577, 587, 1201, 1165, 1289, 1026, 1397, 859, 1718, 1020, 885, 939, 2102, 2082, 103, 2154, 662, 1073, 984, 338, 2916, 888, 1197, 1589, 967, 205, 1140, 616, 2211, 988, 900, 3008, 426, 1490, 1198, 850, 2186, 1285, 1052, 1070, 480, 1032, 184, 1177, 2257, 42, 4785, 2195, 44, 3456, 1092, 423, 2379, 75, 1445, 91, 1052, 153, 1289, 911, 847, 1050, 864, 858, 1009, 1016, 903, 675, 800, 1040, 1025, 623, 840, 571, 960, 987, 1043, 1057, 892, 963, 965, 1027, 829, 971, 966, 1049, 837, 818, 781, 444, 734, 809, 754, 915, 956, 1025, 997, 443, 2499, 946, 1226, 1023, 861, 430, 407, 382, 418, 387, 387, 431, 346, 384, 365, 359, 404, 426, 400, 301, 446, 439, 352, 470, 420, 304, 427, 369, 384, 340, 461, 424, 393, 403, 362, 412, 415, 346, 449, 431, 419, 352, 384, 410, 320, 402, 433, 240, 300, 460, 437, 380, 411, 404, 392, 408, 435, 400, 436, 459, 459, 251, 376, 514, 505, 382, 344, 449, 617, 787, 787, 800, 785, 476, 365, 445, 797, 321, 652, 642, 469, 522, 581, 553, 407, 343, 303, 591, 622, 680, 642, 526, 446, 506, 590, 787, 646, 652, 363, 469, 358, 349, 456, 312, 306, 507, 840, 661, 536, 492, 452, 259, 526, 514, 573, 381, 454, 328, 456, 453, 528, 336, 769, 548, 382, 526, 471, 506, 450, 396, 458, 387, 449, 412, 466, 401, 433, 329, 451, 452, 382, 338, 346, 374, 166, 434, 622, 315, 407, 384, 406, 364, 374, 393, 357, 381, 366, 417, 219, 360, 401, 410, 265, 302, 419, 436, 449, 401, 414, 447, 485, 433, 448, 402, 453, 499, 442, 459, 152, 424, 428, 402, 453, 336, 415, 351, 343, 317, 385, 393, 453, 500, 351, 439, 413, 359, 459, 406, 395, 233, 303, 459, 454, 432, 417, 292, 422, 389, 446, 412, 161, 459, 486, 483, 464, 516, 391, 315, 380, 417, 408, 336, 411, 403, 377, 308, 421, 405, 429, 342, 371, 338, 408, 435, 364, 353, 382, 370, 374, 375, 392, 367, 275, 219, 310, 377, 370, 369, 374, 324, 365, 339, 312, 369, 376, 395, 366, 391, 394, 362, 271, 389, 338, 384, 303, 305, 329, 319, 399, 397, 360, 396, 367, 319, 376, 304, 360, 410, 448, 505, 403, 435, 343, 370, 386, 364, 411, 388, 432, 404, 540, 519, 405, 523, 500, 468, 523, 500, 504, 443, 455, 519, 386, 372, 488, 371, 491, 359, 345, 381, 404, 388, 344, 364, 382, 175, 380, 330, 391, 334, 389, 399, 358, 558, 760, 806, 853, 643, 418, 418, 366, 372, 320, 404, 368, 203, 392, 300, 317, 339, 351, 250, 299, 306, 327, 645, 382, 681, 723, 415, 503, 617, 491, 352, 400, 427, 659, 689, 601, 637, 412, 577, 508, 691, 787, 459, 686, 448, 361, 510, 357, 347, 435, 344, 369, 421, 406, 459, 718, 605, 607, 675, 404, 597, 521, 397, 378, 592, 163, 378, 398, 453, 608, 661, 742, 621, 520, 640, 375, 510, 512, 398, 261, 424, 618, 744, 807, 733, 434, 530, 345, 665, 686, 419, 558, 635, 433, 323, 346, 453, 630, 628, 634, 430, 534, 538, 720, 608, 641, 394, 391, 348, 364, 351, 374, 319, 430, 667, 655, 435, 570, 395, 374, 405, 374, 389, 659, 409, 467, 470, 465, 379, 652, 489, 512, 500, 534, 382, 334, 447, 432, 447, 409, 378, 363, 442, 640, 353, 375, 505, 516, 398, 261, 424, 609, 834, 798, 912, 725, 397, 645, 571, 662, 669, 356, 475, 568, 633, 438, 323, 348, 453, 646, 679, 635, 604, 381, 571, 595, 767, 694, 727, 376, 497, 345, 415, 364, 255, 319, 483, 846, 656, 602, 518, 528, 339, 403, 434, 412, 466, 556, 546, 576, 439, 570, 375, 777, 579, 562, 569, 509, 475, 496, 467, 398, 455, 458, 457, 411, 378, 379, 466, 665, 415, 375, 505, 498, 364, 297, 445, 622, 817, 808, 882, 756, 356, 493, 576, 359, 648, 647, 328, 468, 519, 574, 480, 368, 387, 447, 651, 669, 639, 606, 386, 574, 590, 757, 705, 715, 418, 392, 441, 454, 359, 275, 269, 435, 621, 843, 617, 364, 638, 469, 385, 405, 378, 389, 659, 467, 566, 451, 456, 491, 395, 681, 531, 479, 541, 568, 466, 488, 498, 441, 412, 293, 474, 465, 389, 378, 332, 343, 315, 315, 310, 424, 410, 468, 409, 661, 483, 360, 389, 682, 744, 600, 761, 527, 488, 115, 588, 586, 424, 384, 688, 863, 841, 641, 649, 560, 180, 588, 471, 387, 384, 674, 839, 851, 593, 575, 487, 409, 641, 559, 416, 383, 306, 669, 828, 884, 580, 519, 583, 920, 563, 427, 417, 401, 396, 360, 413, 391, 351, 381, 353, 339, 327, 393, 393, 401, 432, 419, 422, 304, 448, 393, 525, 483, 467, 669, 423, 423, 421, 332, 362, 337, 342, 351, 382, 297, 399, 411, 380, 389, 386, 314, 419, 365, 353, 306, 316, 209, 307, 226, 327, 388, 389, 183, 241, 289, 196, 367, 384, 400, 304, 369, 406, 213, 235, 358, 407, 295, 368, 393, 352, 317, 242, 273, 342, 284, 368, 318, 273, 293, 289, 378, 309, 417, 365, 338, 380, 338, 320, 409, 526, 564, 713, 434, 339, 395, 317, 406, 386, 393, 443, 415, 409, 617, 477, 510, 517, 416, 401, 512, 590, 475, 521, 426, 492, 366, 327, 431, 364, 487, 439, 349, 328, 311, 303, 370, 232, 345, 395, 365, 164, 331, 406, 390, 352, 391, 428, 357, 675, 819, 905, 683, 546, 424, 305, 404, 424, 372, 383, 319, 361, 416, 318, 279, 364, 279, 306, 328, 310, 367, 728, 397, 635, 824, 485, 765, 654, 482, 406, 339, 489, 649, 650, 746, 477, 531, 555, 660, 822, 661, 790, 434, 435, 404, 431, 401, 313, 352, 480, 202, 476, 765, 600, 616, 773, 537, 536, 395, 392, 561, 503, 392, 444, 505, 722, 724, 735, 627, 577, 647, 361, 411, 412, 379, 406, 344, 412, 408, 383, 400, 375, 403, 459, 397, 390, 447, 215, 324, 403, 251, 463, 464, 371, 447, 442, 477, 483, 439, 369, 448, 289, 397, 403, 418, 355, 410, 452, 439, 447, 487, 467, 330, 381, 372, 466, 421, 439, 411, 444, 471, 421, 437, 425, 398, 422, 421, 182, 405, 402, 318, 413, 403, 395, 462, 421, 401, 412, 458, 458, 431, 394, 438, 450, 450, 463, 464, 388, 470, 462, 451, 454, 442, 451, 473, 156, 437, 383, 432, 413, 411, 422, 400, 354, 408, 394, 446, 460, 388, 357, 442, 461, 456, 418, 469, 412, 434, 446, 381, 462, 413, 446, 380, 486, 494, 448, 518, 400, 419, 410, 346, 377, 383, 433, 347, 308, 391, 369, 435, 421, 330, 353, 346, 265, 417, 290, 307, 373, 338, 306, 330, 378, 394, 187, 242, 279, 197, 368, 379, 379, 308, 370, 391, 215, 236, 365, 395, 296, 369, 393, 341, 311, 336, 372, 390, 372, 291, 274, 296, 307, 350, 311, 420, 347, 343, 395, 294, 322, 393, 519, 576, 494, 379, 355, 394, 393, 418, 389, 445, 403, 400, 602, 454, 463, 503, 449, 420, 544, 606, 530, 448, 476, 431, 396, 381, 447, 399, 521, 289, 351, 395, 304, 331, 247, 346, 356, 382, 165, 332, 322, 391, 334, 390, 410, 358, 684, 803, 898, 800, 403, 426, 282, 415, 387, 362, 424, 388, 237, 409, 305, 278, 348, 282, 307, 370, 389, 392, 533, 382, 664, 737, 511, 654, 592, 499, 337, 367, 499, 653, 581, 653, 421, 562, 596, 710, 740, 642, 543, 317, 433, 389, 449, 381, 295, 353, 450, 209, 475, 740, 618, 634, 773, 524, 494, 398, 363, 591, 412, 401, 482, 609, 654, 741, 609, 520, 641, 375, 505, 517, 408, 276, 424, 577, 724, 847, 735, 390, 515, 502, 523, 789, 550, 737, 635, 489, 400, 392, 628, 566, 563, 477, 483, 618, 710, 617, 696, 499, 409, 513, 388, 413, 378, 443, 695, 598, 414, 546, 416, 376, 406, 431, 404, 392, 591, 360, 505, 504, 486, 429, 641, 469, 470, 501, 452, 508, 401, 403, 321, 506, 405, 487, 269, 378, 411, 579, 526, 503, 606, 551, 432, 251, 340, 306, 673, 746, 726, 501, 740, 433, 789, 474, 419, 429, 359, 388, 433, 374, 463, 342, 401, 422, 416, 441, 448, 403, 436, 500, 471, 474, 461, 450, 412, 433, 381, 455, 459, 453, 436, 424, 212]\n"
     ]
    }
   ],
   "source": [
    "# validate\n",
    "\n",
    "print(number_tokens_per_string)"
   ]
  },
  {
   "cell_type": "code",
   "execution_count": 206,
   "id": "015241a4",
   "metadata": {},
   "outputs": [
    {
     "name": "stdout",
     "output_type": "stream",
     "text": [
      "6943\n"
     ]
    }
   ],
   "source": [
    "print(max(number_tokens_per_string))"
   ]
  },
  {
   "cell_type": "code",
   "execution_count": 207,
   "id": "2ea6665a",
   "metadata": {},
   "outputs": [
    {
     "name": "stdout",
     "output_type": "stream",
     "text": [
      "1867\n"
     ]
    }
   ],
   "source": [
    "print(number_tokens_per_string.index(max(number_tokens_per_string)))"
   ]
  },
  {
   "cell_type": "code",
   "execution_count": 208,
   "id": "3071da94",
   "metadata": {},
   "outputs": [],
   "source": [
    "# or, a function\n",
    "\n",
    "\n",
    "# def find_max_index(number_tokens_per_string):\n",
    "#   max_value = max(number_tokens_per_string)\n",
    "#   max_value_index = number_tokens_per_string.index(max_value)\n",
    "\n",
    "#   return max_value_index\n",
    "\n",
    "# find_max_index\n",
    "\n",
    "# if __name__ == \"__main__\":\n",
    "#   max_value_index = find_max_index(number_tokens_per_string)\n",
    "#   print(\"The index of the maximum value is\", max_value_index)"
   ]
  },
  {
   "cell_type": "code",
   "execution_count": 209,
   "id": "ff2387fd",
   "metadata": {},
   "outputs": [
    {
     "name": "stdout",
     "output_type": "stream",
     "text": [
      "6943\n"
     ]
    }
   ],
   "source": [
    "# verify\n",
    "\n",
    "print(len(encoded_strings[number_tokens_per_string.index(max(number_tokens_per_string))]))"
   ]
  },
  {
   "cell_type": "code",
   "execution_count": 210,
   "id": "e5b39270",
   "metadata": {},
   "outputs": [],
   "source": [
    "# print(encoded_strings[1])"
   ]
  },
  {
   "cell_type": "code",
   "execution_count": 211,
   "id": "683d3443",
   "metadata": {},
   "outputs": [],
   "source": [
    "# print(encoded_strings[100])"
   ]
  },
  {
   "cell_type": "code",
   "execution_count": 212,
   "id": "5c79558f",
   "metadata": {},
   "outputs": [
    {
     "name": "stdout",
     "output_type": "stream",
     "text": [
      "False and phew\n"
     ]
    }
   ],
   "source": [
    "# lol, can't tell if they match!\n",
    "\n",
    "if encoded_strings[1] == encoded_strings[100]:\n",
    "    print(\"True\")\n",
    "else:\n",
    "    print(\"False and phew\")\n"
   ]
  },
  {
   "cell_type": "code",
   "execution_count": 213,
   "id": "038a3ef0",
   "metadata": {},
   "outputs": [
    {
     "name": "stdout",
     "output_type": "stream",
     "text": [
      "Maximum possible tokens 22821641\n",
      "Worst case for costing (in dollars): 2.2821641\n"
     ]
    }
   ],
   "source": [
    "# from openai cookbook.  determine cost per number of tokens with this encoder, tokenizer\n",
    "\n",
    "cost_per_thousand_tokens = 0.0001\n",
    "\n",
    "\n",
    "max_tokens = max(number_tokens_per_string)\n",
    "max_strings_sent = len(encoded_strings)\n",
    "\n",
    "max_num_tokens_all_strings = max_tokens*max_strings_sent\n",
    "\n",
    "cost = max_num_tokens_all_strings*cost_per_thousand_tokens/1000\n",
    "\n",
    "print(\"Maximum possible tokens\", max_num_tokens_all_strings)\n",
    "print(\"Worst case for costing (in dollars):\", cost)"
   ]
  },
  {
   "cell_type": "markdown",
   "id": "e60f1fe9",
   "metadata": {},
   "source": [
    "Commentary: just to make a point that processing matters.  On the OpenAI side of things, by changing the chunks to a size of 19880 or so will result in an overall lower cost: 0.36 versus 4.41 (chunk_size: 1000) or 7.53 (chunk_size: 500).\n",
    "\n",
    "I might hit another limit anyway because the max token length I need to send exceeds 2000 tokens/request."
   ]
  },
  {
   "cell_type": "code",
   "execution_count": 214,
   "id": "e5dba321",
   "metadata": {},
   "outputs": [],
   "source": [
    "# we use the openAI embedding model\n",
    "embeddings = OpenAIEmbeddings()\n",
    "pinecone.init(api_key=PINECONE_API_KEY, environment=PINECONE_ENV)\n",
    "\n",
    "doc_db = Pinecone.from_documents(docs_split, embeddings, index_name='langchain-example', batch_size = 50)"
   ]
  },
  {
   "cell_type": "code",
   "execution_count": 215,
   "id": "3a9e3c57",
   "metadata": {},
   "outputs": [],
   "source": [
    "# # had to switch from openai embedding to google universal sentence encoder due to data rate limitations on a free account.\n",
    "\n",
    "# # # load Universal Sentence Encoder\n",
    "# # embed = hub.load(\"https://tfhub.dev/google/universal-sentence-encoder/4\")\n",
    "# # # converted to tensor list above, now embed\n",
    "# # embeddings = embed(stacked_tensor)\n",
    "\n",
    "# # load sentencepiece model\n",
    "# sp = spm.SentencePieceProcessor()\n",
    "# sp.Load('sentencepiece.model')\n",
    "\n",
    "# # convert list of docs to strings\n",
    "# string_list = [doc.strip() for doc in docs_split]\n",
    "\n",
    "# # get embeddings for docs\n",
    "# embeddings = sp.PieceToId(string_list)\n",
    "\n",
    "# # Initialize Pinecone\n",
    "# pinecone.init(api_key = PINECONE_API_KEY, environment = PINECONE_ENV)\n",
    "\n",
    "# # create Pinecone db from docs and embeddings\n",
    "# doc_db = Pinecone.from_documents(docs_split, embeddings, index_name = 'langchain-example', batch_size = 6) "
   ]
  },
  {
   "cell_type": "code",
   "execution_count": 217,
   "id": "4ed9b581",
   "metadata": {},
   "outputs": [
    {
     "data": {
      "text/plain": [
       "[Document(page_content='When the world shifted to learning and working from home, Google data centers kept us running, supported users, and, crucially, supported our partners. Whether our partners are developers, advertisers, content creators, or merchants, our performance is only made possible by their success.\\n\\nFor many of our customers, digital transformation in the cloud became an urgent business priority in 2020. Last year, Google hosted over a trillion minutes of video meetings and over 2.9 billion users chose productivity apps like Gmail, Calendar, Drive, Docs, Sheets, Slides, and Meet every single day.\\n\\nDevelopers were behind the apps that kept people\\n\\nentertained and connected while at home. To ensure developers could access the latest information about our products, and could connect with us and each other, we pivoted all our major conferences online, including 11 weeks of developer content to support the launch of Android 11 Beta. This gave millions of developers easy access to the information they need to build their businesses on Android and Google Play. We also released new tools to help developers build more efficiently and grow their business, as well as online training materials to expand their learning.\\n\\nThe retail sector has faced many challenges over the years, which have only intensified during the pandemic. We made it free for retailers around the world to list products on our Google Shopping tab and removed commission fees for all sellers who participate in our Buy on Google checkout experience. To help retailers adapt to a new reality, we provided a real-time view into search trends relevant to their business in the Google Ads Insights page and made in-demand options like curbside pickup and delivery central features in Search and Maps.\\n\\n$1B\\n\\nQuality journalism and a vibrant news industry\\n\\nIn 2020, we announced our largest investment yet to support the future of news with the launch of Google News Showcase', metadata={'source': 'c:\\\\Users\\\\mkroh\\\\Desktop\\\\alphabet_reports_for_langchain_example\\\\2020_alphabet_annual_report.pdf'}),\n",
       " Document(page_content='To our investors,\\n\\n2022 was a year full of change and uncertainty around the world. In February, when war broke out in Ukraine, our teams worked around-the-clock to make sure our products were helpful to people who needed them, from providing trustworthy information on Search to disrupting cyberattacks to partnering with the government to deploy air raid alerts. In March, I traveled to Warsaw, Poland, where I met Googlers hosting families who sought refuge, talked with entrepreneurs using our office spaces, and saw how our products like Google Translate were helping Ukrainians find a bit of hope and connection.\\n\\nshared new generative models, including Imagen, our text-to-image model, and Phenaki, which can generate long, coherent videos from text prompts.\\n\\nIt’s been especially exciting to see how AI advancements are making our products more helpful. Last year, we launched multisearch, a new way to search using both text and images, and it’s now available in more than 70 languages. People use Lens more than 10 billion times per month to search with their camera or images, and its new, AI-powered translation feature blends translated text seamlessly into the background of images. And, thanks to a new machine learning technique, we added 24 new languages to Google Translate, including its first indigenous languages of the Americas.\\n\\nBy late spring, the tech industry was adjusting to a more challenging macroeconomic environment, and as a company we embarked on efforts to sharpen our focus and make sure our efforts are aligned with our highest priorities. Near the end of the year, AI reached an inflection point, made possible by our foundational breakthroughs like Transformer and advances in diffusion models. It was an exciting moment for us after having worked to develop the technology responsibly for so many years. And on December 18, during the World Cup final, Google Search saw its highest query-per-second volume of all time, a strong signal of our momentum.', metadata={'source': 'c:\\\\Users\\\\mkroh\\\\Desktop\\\\alphabet_reports_for_langchain_example\\\\2022_alphabet_annual_report.pdf'}),\n",
       " Document(page_content=\"Turning to the way people are using our products. People are relying on Google’s services more than ever. This is a strong recognition of the value of our products, particularly in important and urgent moments. As a few examples, we’ve seen a significant rise in search activity. To put it into perspective, in the U.S., coronavirus-related search activity at its peak was four times greater than during the peak of the Super Bowl. People are spending significantly more time on their Android apps, with downloads of apps from Google Play rising 30% from February to March. YouTube watchtime has also significantly increased. One area in particular is livestreams. I hope you saw Andrea Bocelli on YouTube Live on Easter, which has had over 39 million views. It was truly beautiful. One hundred million students and educators are using Google Classroom, double the number from the beginning of March. We've seen a massive increase in demand for Chromebooks; analysts have reported a 400% increase during the week of March 21st year-over-year. And schools and businesses in particular are using our secure video conferencing platform Meet. Last week, we surpassed a significant milestone and are now adding roughly 3 million new users each day, and have seen a thirty fold increase in usage since January. There are now over 100 million daily Meet meeting participants. Stay tuned for much more!\", metadata={'source': 'c:\\\\Users\\\\mkroh\\\\Desktop\\\\alphabet_reports_for_langchain_example\\\\2020_Q1_Earnings_Transcript.pdf'}),\n",
       " Document(page_content=\"We are focused on building an even more helpful Google for everyone, and we aspire to give everyone the tools they need to increase their knowledge, health, happiness, and success. Every year, there are trillions of searches on Google, and 15% of the searches we see every day are new. We continue to invest deeply in AI and other technologies to ensure the most helpful search experience possible. YouTube provides people with entertainment, information, and opportunities to learn something new. And Google Assistant offers the best way to get things done seamlessly across different devices, providing intelligent help throughout a person's day, no matter where they are.\\n\\nWe are continually innovating and building new product features that will help our users, partners, customers, and communities. We have invested more than $100 billion in R&D over the last five years. In addition, with the onset of\\n\\n4\\n\\nTable of Contents\\n\\nAlphabet Inc.\\n\\nthe pandemic, we have focused in particular on features that help people in their daily lives and that support businesses working to serve their customers. For example, we have added live busyness trends in Google Maps that help users instantly spot when a neighborhood or part of town is near or at its busiest. We have also helped businesses navigate uncertainty during an uneven economic recovery, and we have worked to address the complex challenge of distributing critical information about COVID-19 vaccines to billions of people around the world. Importantly, we have made authoritative content a key focus area across both Google Search and YouTube to help users find trusted public health information.\\n\\nOther Bets also remain focused on innovation through technology that can positively affect people's lives. For instance, Waymo is working toward our goal of making transportation safer and easier for everyone and Verily is developing tools and platforms to improve health outcomes.\\n\\nMoonshots\", metadata={'source': 'c:\\\\Users\\\\mkroh\\\\Desktop\\\\alphabet_reports_for_langchain_example\\\\20220202_alphabet_10K.pdf'})]"
      ]
     },
     "execution_count": 217,
     "metadata": {},
     "output_type": "execute_result"
    }
   ],
   "source": [
    "query = \"What were the most important events for Google in 2021?\"\n",
    "search_docs = doc_db.similarity_search(query)\n",
    "search_docs"
   ]
  },
  {
   "cell_type": "code",
   "execution_count": 227,
   "id": "3bd0fc64",
   "metadata": {},
   "outputs": [],
   "source": [
    "# llm to utilize vector database data\n",
    "\n",
    "# llm = OpenAI()\n",
    "\n",
    "llm = ChatOpenAI()  # alternative.  ChatGPT is this one."
   ]
  },
  {
   "cell_type": "code",
   "execution_count": 228,
   "id": "686c476b",
   "metadata": {},
   "outputs": [],
   "source": [
    "# query the data with retrievalQA\n",
    "\n",
    "qa = RetrievalQA.from_chain_type(llm = llm, chain_type = 'stuff', retriever=doc_db.as_retriever())\n",
    "\n",
    "query = \"What were the earnings in 2022?\"\n",
    "result = qa.run(query)\n",
    "result"
   ]
  },
  {
   "cell_type": "code",
   "execution_count": 229,
   "id": "4b9e1f90",
   "metadata": {},
   "outputs": [
    {
     "data": {
      "text/plain": [
       "'The total revenues for the year ended December 31, 2022, were $282,836 million. However, the context does not provide information on the specific earnings for the year.'"
      ]
     },
     "execution_count": 229,
     "metadata": {},
     "output_type": "execute_result"
    }
   ],
   "source": [
    "result"
   ]
  },
  {
   "cell_type": "code",
   "execution_count": 232,
   "id": "3be9fbd9",
   "metadata": {},
   "outputs": [
    {
     "data": {
      "text/plain": [
       "'The given text does not provide information about what Google focused on in 2022 as it is a hypothetical year and has not happened yet. However, the text does mention that Google strives to empower people, businesses, and communities with technology that can help them navigate our changing world. In 2021, Google continued to invest deeply in AI and other technologies to ensure the most helpful search experience possible, and also worked to advance knowledge and computing, drawing on AI to build products that are more accessible and helpful for everyone, everywhere. Additionally, Google added new languages to Google Translate, introduced auto-translated captions on YouTube, and added live busyness trends in Google Maps to help users instantly spot when a neighborhood or part of town is near or at its busiest.'"
      ]
     },
     "execution_count": 232,
     "metadata": {},
     "output_type": "execute_result"
    }
   ],
   "source": [
    "query = \"What did Google focus on in 2022?\"\n",
    "result = qa.run(query)\n",
    "result"
   ]
  },
  {
   "cell_type": "code",
   "execution_count": null,
   "id": "9c36dc6b",
   "metadata": {},
   "outputs": [],
   "source": []
  }
 ],
 "metadata": {
  "kernelspec": {
   "display_name": "Python 3 (ipykernel)",
   "language": "python",
   "name": "python3"
  },
  "language_info": {
   "codemirror_mode": {
    "name": "ipython",
    "version": 3
   },
   "file_extension": ".py",
   "mimetype": "text/x-python",
   "name": "python",
   "nbconvert_exporter": "python",
   "pygments_lexer": "ipython3",
   "version": "3.8.1"
  }
 },
 "nbformat": 4,
 "nbformat_minor": 5
}
